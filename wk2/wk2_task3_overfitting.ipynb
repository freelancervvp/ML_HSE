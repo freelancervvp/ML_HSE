{
 "cells": [
  {
   "cell_type": "code",
   "execution_count": 21,
   "metadata": {
    "collapsed": false
   },
   "outputs": [
    {
     "name": "stdout",
     "output_type": "stream",
     "text": [
      "(300, 3)\n",
      "    0         1            2\n",
      "0   0 -0.024626  1174.600238\n",
      "1   1 -0.978058  1083.198803\n",
      "2  -1  0.314272 -1472.977609\n",
      "3   0  0.179752   231.017267\n",
      "4   1 -1.262544  -778.271726\n",
      "5   0  0.249970   -52.801483\n",
      "6   1 -1.870397  -324.235348\n",
      "7   1  0.020419   -64.744951\n",
      "8   1  0.065806  -421.684101\n",
      "9   1 -0.638902  -405.843375\n",
      "10  0  0.955832 -1057.055777\n",
      "11  1 -0.735217   585.318030\n",
      "12  1 -1.255669   874.079809\n",
      "13 -0  0.283627   631.948284\n",
      "14 -1 -0.143176    47.002445\n",
      "15  1 -0.358936  -307.774322\n",
      "16  1 -0.817668   763.160514\n",
      "17  0  1.316606  1266.429299\n",
      "18 -1  0.742686 -1842.031838\n",
      "19  0  0.245379   366.732198\n",
      "(200, 3)\n",
      "    0         1            2\n",
      "0   0  1.651437  1337.453826\n",
      "1   1 -0.866495  1191.232457\n",
      "2   0  0.789828  -475.647768\n",
      "3   0  0.179549  1959.095353\n",
      "4   1 -0.434351   568.504207\n",
      "5   1 -1.506295   929.584470\n",
      "6   1 -1.253881  -448.391638\n",
      "7   1 -0.393311 -1109.230943\n",
      "8  -0  0.474347  -149.290942\n",
      "9   1 -0.882829 -1793.888921\n",
      "10 -0  0.680072   380.219145\n",
      "11  0  0.079227  1648.817861\n",
      "12  0  0.553856   371.524682\n",
      "13  0  0.753869  3571.579218\n",
      "14  0 -0.098760   895.370847\n",
      "15  0  1.242870  1595.921172\n",
      "16  1 -0.390900  -472.530592\n",
      "17  1 -0.865432   392.078047\n",
      "18  1 -1.019655   782.440404\n",
      "19  1 -0.354909  -661.550647\n"
     ]
    }
   ],
   "source": [
    "import pandas as pd\n",
    "import numpy as np\n",
    "df_train = pd.read_csv(\"perceptron-train.csv\", header=None)\n",
    "df_test = pd.read_csv(\"perceptron-test.csv\", header=None)\n",
    "print(df_train.shape)\n",
    "print(df_train.head(20))\n",
    "print(df_test.shape)\n",
    "print(df_test.head(20))\n",
    "#print(df_train.iloc[:,1:3])\n",
    "#df_train.iloc[:,0].abs()"
   ]
  },
  {
   "cell_type": "code",
   "execution_count": 29,
   "metadata": {
    "collapsed": false
   },
   "outputs": [
    {
     "name": "stdout",
     "output_type": "stream",
     "text": [
      "[-1. -1.  1. -1.  1.  1.  1.  1.  1.  1.  1. -1. -1. -1. -1.  1. -1. -1.\n",
      "  1.]\n"
     ]
    }
   ],
   "source": [
    "from sklearn.linear_model import Perceptron\n",
    "\n",
    "df_train_X = df_train.iloc[:,1:3]\n",
    "df_train_y = df_train.iloc[:,0] #.abs()\n",
    "\n",
    "clf = Perceptron(random_state=241)\n",
    "clf.fit(df_train_X, df_train_y)\n",
    "predictions = clf.predict(df_train_X)\n",
    "\n",
    "print(predictions[0:19])"
   ]
  },
  {
   "cell_type": "code",
   "execution_count": 32,
   "metadata": {
    "collapsed": false
   },
   "outputs": [
    {
     "name": "stdout",
     "output_type": "stream",
     "text": [
      "on train data 0.36\n",
      "on test data 0.36\n"
     ]
    }
   ],
   "source": [
    "from sklearn.metrics import accuracy_score\n",
    "\n",
    "df_train_accuracy = accuracy_score(df_train_y, predictions)\n",
    "print(\"on train data\", df_train_accuracy)\n",
    "\n",
    "df_test_X = df_test.iloc[:,1:3]\n",
    "df_test_y = df_test.iloc[:,0] #.abs()\n",
    "\n",
    "predictions_test = clf.predict(df_test_X)\n",
    "df_test_accuracy = accuracy_score(df_test_y, predictions_test)\n",
    "print(\"on test data\", df_test_accuracy)"
   ]
  },
  {
   "cell_type": "code",
   "execution_count": 34,
   "metadata": {
    "collapsed": false
   },
   "outputs": [
    {
     "name": "stdout",
     "output_type": "stream",
     "text": [
      "on train data, scaled 0.923333333333\n",
      "on test data, scaled 0.925\n"
     ]
    }
   ],
   "source": [
    "from sklearn.preprocessing import StandardScaler\n",
    "\n",
    "scaler = StandardScaler()\n",
    "df_train_scaled_X = scaler.fit_transform(df_train.iloc[:,1:3])\n",
    "df_test_scaled_X = scaler.transform(df_test.iloc[:,1:3])\n",
    "\n",
    "clf_scaled = Perceptron(random_state=241)\n",
    "clf_scaled.fit(df_train_scaled_X, df_train_y)\n",
    "\n",
    "predictions_scaled = clf_scaled.predict(df_train_scaled_X)\n",
    "df_train_accuracy_scaled = accuracy_score(df_train_y, predictions_scaled)\n",
    "print(\"on train data, scaled\", df_train_accuracy_scaled)\n",
    "\n",
    "predictions_scaled_test = clf_scaled.predict(df_test_scaled_X)\n",
    "df_test_accuracy_scaled = accuracy_score(df_test_y, predictions_scaled_test)\n",
    "print(\"on test data, scaled\", df_test_accuracy_scaled)\n",
    "                                         "
   ]
  },
  {
   "cell_type": "code",
   "execution_count": 35,
   "metadata": {
    "collapsed": false
   },
   "outputs": [
    {
     "name": "stdout",
     "output_type": "stream",
     "text": [
      "difference =  0.565\n"
     ]
    }
   ],
   "source": [
    "print(\"difference = \", df_test_accuracy_scaled - df_test_accuracy)"
   ]
  },
  {
   "cell_type": "code",
   "execution_count": null,
   "metadata": {
    "collapsed": true
   },
   "outputs": [],
   "source": []
  }
 ],
 "metadata": {
  "kernelspec": {
   "display_name": "Python 3",
   "language": "python",
   "name": "python3"
  },
  "language_info": {
   "codemirror_mode": {
    "name": "ipython",
    "version": 3
   },
   "file_extension": ".py",
   "mimetype": "text/x-python",
   "name": "python",
   "nbconvert_exporter": "python",
   "pygments_lexer": "ipython3",
   "version": "3.5.1"
  }
 },
 "nbformat": 4,
 "nbformat_minor": 0
}
