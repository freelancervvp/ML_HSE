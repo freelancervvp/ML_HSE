{
 "cells": [
  {
   "cell_type": "code",
   "execution_count": 1,
   "metadata": {
    "collapsed": false
   },
   "outputs": [
    {
     "name": "stdout",
     "output_type": "stream",
     "text": [
      "(200, 2)\n"
     ]
    },
    {
     "data": {
      "text/html": [
       "<div>\n",
       "<table border=\"1\" class=\"dataframe\">\n",
       "  <thead>\n",
       "    <tr style=\"text-align: right;\">\n",
       "      <th></th>\n",
       "      <th>true</th>\n",
       "      <th>pred</th>\n",
       "    </tr>\n",
       "  </thead>\n",
       "  <tbody>\n",
       "    <tr>\n",
       "      <th>0</th>\n",
       "      <td>1</td>\n",
       "      <td>0</td>\n",
       "    </tr>\n",
       "    <tr>\n",
       "      <th>1</th>\n",
       "      <td>1</td>\n",
       "      <td>1</td>\n",
       "    </tr>\n",
       "    <tr>\n",
       "      <th>2</th>\n",
       "      <td>1</td>\n",
       "      <td>1</td>\n",
       "    </tr>\n",
       "    <tr>\n",
       "      <th>3</th>\n",
       "      <td>0</td>\n",
       "      <td>0</td>\n",
       "    </tr>\n",
       "    <tr>\n",
       "      <th>4</th>\n",
       "      <td>1</td>\n",
       "      <td>1</td>\n",
       "    </tr>\n",
       "    <tr>\n",
       "      <th>5</th>\n",
       "      <td>1</td>\n",
       "      <td>1</td>\n",
       "    </tr>\n",
       "    <tr>\n",
       "      <th>6</th>\n",
       "      <td>1</td>\n",
       "      <td>1</td>\n",
       "    </tr>\n",
       "    <tr>\n",
       "      <th>7</th>\n",
       "      <td>0</td>\n",
       "      <td>1</td>\n",
       "    </tr>\n",
       "    <tr>\n",
       "      <th>8</th>\n",
       "      <td>0</td>\n",
       "      <td>0</td>\n",
       "    </tr>\n",
       "    <tr>\n",
       "      <th>9</th>\n",
       "      <td>0</td>\n",
       "      <td>1</td>\n",
       "    </tr>\n",
       "  </tbody>\n",
       "</table>\n",
       "</div>"
      ],
      "text/plain": [
       "   true  pred\n",
       "0     1     0\n",
       "1     1     1\n",
       "2     1     1\n",
       "3     0     0\n",
       "4     1     1\n",
       "5     1     1\n",
       "6     1     1\n",
       "7     0     1\n",
       "8     0     0\n",
       "9     0     1"
      ]
     },
     "execution_count": 1,
     "metadata": {},
     "output_type": "execute_result"
    }
   ],
   "source": [
    "import pandas as pd\n",
    "import numpy as np\n",
    "df = pd.read_csv(\"classification.csv\")#, header = None, names = ['y', 'x1', 'x2'])\n",
    "print(df.shape)\n",
    "df.head(10)"
   ]
  },
  {
   "cell_type": "code",
   "execution_count": 2,
   "metadata": {
    "collapsed": false
   },
   "outputs": [
    {
     "data": {
      "text/plain": [
       "43"
      ]
     },
     "execution_count": 2,
     "metadata": {},
     "output_type": "execute_result"
    }
   ],
   "source": [
    "TP = np.sum(df['true'] * df['pred'])\n",
    "TP"
   ]
  },
  {
   "cell_type": "code",
   "execution_count": 3,
   "metadata": {
    "collapsed": false
   },
   "outputs": [
    {
     "data": {
      "text/plain": [
       "34"
      ]
     },
     "execution_count": 3,
     "metadata": {},
     "output_type": "execute_result"
    }
   ],
   "source": [
    "FP = np.sum(np.equal(df['true'] + 1, df['pred']))\n",
    "FP"
   ]
  },
  {
   "cell_type": "code",
   "execution_count": 4,
   "metadata": {
    "collapsed": false
   },
   "outputs": [
    {
     "data": {
      "text/plain": [
       "77"
      ]
     },
     "execution_count": 4,
     "metadata": {},
     "output_type": "execute_result"
    }
   ],
   "source": [
    "np.sum(np.equal(df['pred'], 1))"
   ]
  },
  {
   "cell_type": "code",
   "execution_count": 5,
   "metadata": {
    "collapsed": false
   },
   "outputs": [
    {
     "data": {
      "text/plain": [
       "102"
      ]
     },
     "execution_count": 5,
     "metadata": {},
     "output_type": "execute_result"
    }
   ],
   "source": [
    "np.sum(np.equal(df['true'], 1))"
   ]
  },
  {
   "cell_type": "code",
   "execution_count": 6,
   "metadata": {
    "collapsed": false
   },
   "outputs": [
    {
     "data": {
      "text/plain": [
       "64"
      ]
     },
     "execution_count": 6,
     "metadata": {},
     "output_type": "execute_result"
    }
   ],
   "source": [
    "TN = np.sum(np.equal(df['true'] + df['pred'], 0))\n",
    "TN"
   ]
  },
  {
   "cell_type": "code",
   "execution_count": 7,
   "metadata": {
    "collapsed": false
   },
   "outputs": [
    {
     "data": {
      "text/plain": [
       "59"
      ]
     },
     "execution_count": 7,
     "metadata": {},
     "output_type": "execute_result"
    }
   ],
   "source": [
    "FN = np.sum(np.equal(df['true'], df['pred'] + 1))\n",
    "FN"
   ]
  },
  {
   "cell_type": "code",
   "execution_count": 8,
   "metadata": {
    "collapsed": false
   },
   "outputs": [
    {
     "data": {
      "text/plain": [
       "0.53500000000000003"
      ]
     },
     "execution_count": 8,
     "metadata": {},
     "output_type": "execute_result"
    }
   ],
   "source": [
    "from sklearn import metrics\n",
    "\n",
    "accuracy = metrics.accuracy_score(df['true'], df['pred'])\n",
    "accuracy"
   ]
  },
  {
   "cell_type": "code",
   "execution_count": 9,
   "metadata": {
    "collapsed": false
   },
   "outputs": [
    {
     "data": {
      "text/plain": [
       "0.55844155844155841"
      ]
     },
     "execution_count": 9,
     "metadata": {},
     "output_type": "execute_result"
    }
   ],
   "source": [
    "precision = metrics.precision_score(df['true'], df['pred'])\n",
    "precision"
   ]
  },
  {
   "cell_type": "code",
   "execution_count": 10,
   "metadata": {
    "collapsed": false
   },
   "outputs": [
    {
     "data": {
      "text/plain": [
       "0.42156862745098039"
      ]
     },
     "execution_count": 10,
     "metadata": {},
     "output_type": "execute_result"
    }
   ],
   "source": [
    "recall = metrics.recall_score(df['true'], df['pred'])\n",
    "recall"
   ]
  },
  {
   "cell_type": "code",
   "execution_count": 11,
   "metadata": {
    "collapsed": false
   },
   "outputs": [
    {
     "data": {
      "text/plain": [
       "0.48044692737430167"
      ]
     },
     "execution_count": 11,
     "metadata": {},
     "output_type": "execute_result"
    }
   ],
   "source": [
    "f1score = metrics.f1_score(df['true'], df['pred'])\n",
    "f1score"
   ]
  },
  {
   "cell_type": "code",
   "execution_count": 12,
   "metadata": {
    "collapsed": false
   },
   "outputs": [
    {
     "name": "stdout",
     "output_type": "stream",
     "text": [
      "(200, 5)\n"
     ]
    },
    {
     "data": {
      "text/html": [
       "<div>\n",
       "<table border=\"1\" class=\"dataframe\">\n",
       "  <thead>\n",
       "    <tr style=\"text-align: right;\">\n",
       "      <th></th>\n",
       "      <th>true</th>\n",
       "      <th>score_logreg</th>\n",
       "      <th>score_svm</th>\n",
       "      <th>score_knn</th>\n",
       "      <th>score_tree</th>\n",
       "    </tr>\n",
       "  </thead>\n",
       "  <tbody>\n",
       "    <tr>\n",
       "      <th>0</th>\n",
       "      <td>0</td>\n",
       "      <td>0.683832</td>\n",
       "      <td>0.145976</td>\n",
       "      <td>0.787063</td>\n",
       "      <td>0.500000</td>\n",
       "    </tr>\n",
       "    <tr>\n",
       "      <th>1</th>\n",
       "      <td>1</td>\n",
       "      <td>0.801966</td>\n",
       "      <td>0.239511</td>\n",
       "      <td>1.000000</td>\n",
       "      <td>0.833333</td>\n",
       "    </tr>\n",
       "    <tr>\n",
       "      <th>2</th>\n",
       "      <td>0</td>\n",
       "      <td>0.382315</td>\n",
       "      <td>-0.245701</td>\n",
       "      <td>0.000000</td>\n",
       "      <td>0.000000</td>\n",
       "    </tr>\n",
       "    <tr>\n",
       "      <th>3</th>\n",
       "      <td>1</td>\n",
       "      <td>0.506797</td>\n",
       "      <td>-0.137058</td>\n",
       "      <td>0.000000</td>\n",
       "      <td>0.105263</td>\n",
       "    </tr>\n",
       "    <tr>\n",
       "      <th>4</th>\n",
       "      <td>1</td>\n",
       "      <td>0.488781</td>\n",
       "      <td>-0.154148</td>\n",
       "      <td>0.000000</td>\n",
       "      <td>0.105263</td>\n",
       "    </tr>\n",
       "    <tr>\n",
       "      <th>5</th>\n",
       "      <td>0</td>\n",
       "      <td>0.108506</td>\n",
       "      <td>-0.790864</td>\n",
       "      <td>0.000000</td>\n",
       "      <td>0.000000</td>\n",
       "    </tr>\n",
       "    <tr>\n",
       "      <th>6</th>\n",
       "      <td>0</td>\n",
       "      <td>0.413749</td>\n",
       "      <td>-0.185143</td>\n",
       "      <td>0.283053</td>\n",
       "      <td>0.363636</td>\n",
       "    </tr>\n",
       "    <tr>\n",
       "      <th>7</th>\n",
       "      <td>0</td>\n",
       "      <td>0.961081</td>\n",
       "      <td>0.830973</td>\n",
       "      <td>1.000000</td>\n",
       "      <td>1.000000</td>\n",
       "    </tr>\n",
       "    <tr>\n",
       "      <th>8</th>\n",
       "      <td>0</td>\n",
       "      <td>0.055733</td>\n",
       "      <td>-0.872805</td>\n",
       "      <td>0.000000</td>\n",
       "      <td>0.100000</td>\n",
       "    </tr>\n",
       "    <tr>\n",
       "      <th>9</th>\n",
       "      <td>0</td>\n",
       "      <td>0.168708</td>\n",
       "      <td>-0.518390</td>\n",
       "      <td>0.000000</td>\n",
       "      <td>0.100000</td>\n",
       "    </tr>\n",
       "  </tbody>\n",
       "</table>\n",
       "</div>"
      ],
      "text/plain": [
       "   true  score_logreg  score_svm  score_knn  score_tree\n",
       "0     0      0.683832   0.145976   0.787063    0.500000\n",
       "1     1      0.801966   0.239511   1.000000    0.833333\n",
       "2     0      0.382315  -0.245701   0.000000    0.000000\n",
       "3     1      0.506797  -0.137058   0.000000    0.105263\n",
       "4     1      0.488781  -0.154148   0.000000    0.105263\n",
       "5     0      0.108506  -0.790864   0.000000    0.000000\n",
       "6     0      0.413749  -0.185143   0.283053    0.363636\n",
       "7     0      0.961081   0.830973   1.000000    1.000000\n",
       "8     0      0.055733  -0.872805   0.000000    0.100000\n",
       "9     0      0.168708  -0.518390   0.000000    0.100000"
      ]
     },
     "execution_count": 12,
     "metadata": {},
     "output_type": "execute_result"
    }
   ],
   "source": [
    "scores = pd.read_csv(\"scores.csv\")#, header = None, names = ['y', 'x1', 'x2'])\n",
    "print(scores.shape)\n",
    "scores.head(10)"
   ]
  },
  {
   "cell_type": "code",
   "execution_count": 13,
   "metadata": {
    "collapsed": false
   },
   "outputs": [
    {
     "name": "stdout",
     "output_type": "stream",
     "text": [
      "score_logreg =  0.71918767507\n",
      "score_svm =  0.708683473389\n",
      "score_knn =  0.635154061625\n",
      "score_tree =  0.691926770708\n"
     ]
    }
   ],
   "source": [
    "score_logreg = metrics.roc_auc_score(scores['true'], scores['score_logreg'])\n",
    "print(\"score_logreg = \", score_logreg)\n",
    "score_svm = metrics.roc_auc_score(scores['true'], scores['score_svm'])\n",
    "print(\"score_svm = \", score_svm)\n",
    "score_knn = metrics.roc_auc_score(scores['true'], scores['score_knn'])\n",
    "print(\"score_knn = \", score_knn)\n",
    "score_tree = metrics.roc_auc_score(scores['true'], scores['score_tree'])\n",
    "print(\"score_tree = \", score_tree)"
   ]
  },
  {
   "cell_type": "code",
   "execution_count": 69,
   "metadata": {
    "collapsed": false
   },
   "outputs": [
    {
     "name": "stdout",
     "output_type": "stream",
     "text": [
      "precision and recall =\n",
      " [[ 0.49746193  1.        ]\n",
      " [ 0.49489796  0.98979592]\n",
      " [ 0.49230769  0.97959184]\n",
      " [ 0.49484536  0.97959184]\n",
      " [ 0.49740933  0.97959184]\n",
      " [ 0.49479167  0.96938776]\n",
      " [ 0.4973822   0.96938776]\n",
      " [ 0.49473684  0.95918367]\n",
      " [ 0.4973545   0.95918367]\n",
      " [ 0.5         0.95918367]\n",
      " [ 0.5026738   0.95918367]\n",
      " [ 0.5         0.94897959]\n",
      " [ 0.4972973   0.93877551]\n",
      " [ 0.5         0.93877551]\n",
      " [ 0.50273224  0.93877551]\n",
      " [ 0.50549451  0.93877551]\n",
      " [ 0.50828729  0.93877551]\n",
      " [ 0.51111111  0.93877551]\n",
      " [ 0.51396648  0.93877551]\n",
      " [ 0.51685393  0.93877551]\n",
      " [ 0.51977401  0.93877551]\n",
      " [ 0.52272727  0.93877551]\n",
      " [ 0.52571429  0.93877551]\n",
      " [ 0.52873563  0.93877551]\n",
      " [ 0.53179191  0.93877551]\n",
      " [ 0.53488372  0.93877551]\n",
      " [ 0.5380117   0.93877551]\n",
      " [ 0.53529412  0.92857143]\n",
      " [ 0.53846154  0.92857143]\n",
      " [ 0.54166667  0.92857143]\n",
      " [ 0.54491018  0.92857143]\n",
      " [ 0.54819277  0.92857143]\n",
      " [ 0.55151515  0.92857143]\n",
      " [ 0.54878049  0.91836735]\n",
      " [ 0.55214724  0.91836735]\n",
      " [ 0.54938272  0.90816327]\n",
      " [ 0.55279503  0.90816327]\n",
      " [ 0.55625     0.90816327]\n",
      " [ 0.55974843  0.90816327]\n",
      " [ 0.55696203  0.89795918]\n",
      " [ 0.56050955  0.89795918]\n",
      " [ 0.56410256  0.89795918]\n",
      " [ 0.56129032  0.8877551 ]\n",
      " [ 0.56493506  0.8877551 ]\n",
      " [ 0.56862745  0.8877551 ]\n",
      " [ 0.56578947  0.87755102]\n",
      " [ 0.56953642  0.87755102]\n",
      " [ 0.56666667  0.86734694]\n",
      " [ 0.5704698   0.86734694]\n",
      " [ 0.57432432  0.86734694]\n",
      " [ 0.57142857  0.85714286]\n",
      " [ 0.57534247  0.85714286]\n",
      " [ 0.57241379  0.84693878]\n",
      " [ 0.57638889  0.84693878]\n",
      " [ 0.58041958  0.84693878]\n",
      " [ 0.58450704  0.84693878]\n",
      " [ 0.58156028  0.83673469]\n",
      " [ 0.58571429  0.83673469]\n",
      " [ 0.58992806  0.83673469]\n",
      " [ 0.58695652  0.82653061]\n",
      " [ 0.59124088  0.82653061]\n",
      " [ 0.59558824  0.82653061]\n",
      " [ 0.6         0.82653061]\n",
      " [ 0.59701493  0.81632653]\n",
      " [ 0.60150376  0.81632653]\n",
      " [ 0.60606061  0.81632653]\n",
      " [ 0.60305344  0.80612245]\n",
      " [ 0.6         0.79591837]\n",
      " [ 0.60465116  0.79591837]\n",
      " [ 0.609375    0.79591837]\n",
      " [ 0.61417323  0.79591837]\n",
      " [ 0.61111111  0.78571429]\n",
      " [ 0.616       0.78571429]\n",
      " [ 0.62096774  0.78571429]\n",
      " [ 0.62601626  0.78571429]\n",
      " [ 0.62295082  0.7755102 ]\n",
      " [ 0.61983471  0.76530612]\n",
      " [ 0.625       0.76530612]\n",
      " [ 0.6302521   0.76530612]\n",
      " [ 0.62711864  0.75510204]\n",
      " [ 0.62393162  0.74489796]\n",
      " [ 0.62068966  0.73469388]\n",
      " [ 0.62608696  0.73469388]\n",
      " [ 0.62280702  0.7244898 ]\n",
      " [ 0.61946903  0.71428571]\n",
      " [ 0.61607143  0.70408163]]\n"
     ]
    }
   ],
   "source": [
    "precision_logreg, recall_logreg, thresholds_logreg = metrics.precision_recall_curve(scores['true'], scores['score_logreg'])\n",
    "logreg = np.concatenate((precision_logreg.reshape(1,len(precision_logreg)).transpose(), recall_logreg.reshape(1,len(recall_logreg)).transpose()), axis =1)\n",
    "print(\"precision and recall =\\n\", logreg[logreg[:,1] > 0.7])\n",
    "#print(\"thresholds_logreg = \", thresholds_logreg)"
   ]
  },
  {
   "cell_type": "code",
   "execution_count": 48,
   "metadata": {
    "collapsed": false
   },
   "outputs": [
    {
     "data": {
      "text/plain": [
       "array([[1, 2, 3],\n",
       "       [1, 2, 3]])"
      ]
     },
     "execution_count": 48,
     "metadata": {},
     "output_type": "execute_result"
    }
   ],
   "source": [
    "a = np.array([[1,2,3]])\n",
    "b = np.array([[1,2,3]])\n",
    "np.concatenate((a,b),axis=0)"
   ]
  },
  {
   "cell_type": "code",
   "execution_count": 70,
   "metadata": {
    "collapsed": false
   },
   "outputs": [
    {
     "name": "stdout",
     "output_type": "stream",
     "text": [
      "precision and recall =\n",
      " [[ 0.49246231  1.        ]\n",
      " [ 0.48989899  0.98979592]\n",
      " [ 0.49238579  0.98979592]\n",
      " [ 0.48979592  0.97959184]\n",
      " [ 0.49230769  0.97959184]\n",
      " [ 0.49484536  0.97959184]\n",
      " [ 0.49740933  0.97959184]\n",
      " [ 0.5         0.97959184]\n",
      " [ 0.4973822   0.96938776]\n",
      " [ 0.49473684  0.95918367]\n",
      " [ 0.49206349  0.94897959]\n",
      " [ 0.49468085  0.94897959]\n",
      " [ 0.4973262   0.94897959]\n",
      " [ 0.5         0.94897959]\n",
      " [ 0.4972973   0.93877551]\n",
      " [ 0.5         0.93877551]\n",
      " [ 0.50273224  0.93877551]\n",
      " [ 0.50549451  0.93877551]\n",
      " [ 0.50828729  0.93877551]\n",
      " [ 0.51111111  0.93877551]\n",
      " [ 0.51396648  0.93877551]\n",
      " [ 0.51685393  0.93877551]\n",
      " [ 0.51977401  0.93877551]\n",
      " [ 0.52272727  0.93877551]\n",
      " [ 0.52571429  0.93877551]\n",
      " [ 0.52298851  0.92857143]\n",
      " [ 0.52601156  0.92857143]\n",
      " [ 0.52906977  0.92857143]\n",
      " [ 0.53216374  0.92857143]\n",
      " [ 0.53529412  0.92857143]\n",
      " [ 0.53846154  0.92857143]\n",
      " [ 0.54166667  0.92857143]\n",
      " [ 0.54491018  0.92857143]\n",
      " [ 0.54819277  0.92857143]\n",
      " [ 0.54545455  0.91836735]\n",
      " [ 0.54878049  0.91836735]\n",
      " [ 0.55214724  0.91836735]\n",
      " [ 0.55555556  0.91836735]\n",
      " [ 0.55279503  0.90816327]\n",
      " [ 0.55        0.89795918]\n",
      " [ 0.54716981  0.8877551 ]\n",
      " [ 0.55063291  0.8877551 ]\n",
      " [ 0.5477707   0.87755102]\n",
      " [ 0.54487179  0.86734694]\n",
      " [ 0.5483871   0.86734694]\n",
      " [ 0.55194805  0.86734694]\n",
      " [ 0.55555556  0.86734694]\n",
      " [ 0.55921053  0.86734694]\n",
      " [ 0.56291391  0.86734694]\n",
      " [ 0.56666667  0.86734694]\n",
      " [ 0.5704698   0.86734694]\n",
      " [ 0.57432432  0.86734694]\n",
      " [ 0.57142857  0.85714286]\n",
      " [ 0.57534247  0.85714286]\n",
      " [ 0.57931034  0.85714286]\n",
      " [ 0.58333333  0.85714286]\n",
      " [ 0.58741259  0.85714286]\n",
      " [ 0.5915493   0.85714286]\n",
      " [ 0.58865248  0.84693878]\n",
      " [ 0.59285714  0.84693878]\n",
      " [ 0.58992806  0.83673469]\n",
      " [ 0.5942029   0.83673469]\n",
      " [ 0.59124088  0.82653061]\n",
      " [ 0.58823529  0.81632653]\n",
      " [ 0.59259259  0.81632653]\n",
      " [ 0.59701493  0.81632653]\n",
      " [ 0.59398496  0.80612245]\n",
      " [ 0.59090909  0.79591837]\n",
      " [ 0.59541985  0.79591837]\n",
      " [ 0.6         0.79591837]\n",
      " [ 0.60465116  0.79591837]\n",
      " [ 0.6015625   0.78571429]\n",
      " [ 0.60629921  0.78571429]\n",
      " [ 0.6031746   0.7755102 ]\n",
      " [ 0.608       0.7755102 ]\n",
      " [ 0.61290323  0.7755102 ]\n",
      " [ 0.6097561   0.76530612]\n",
      " [ 0.60655738  0.75510204]\n",
      " [ 0.61157025  0.75510204]\n",
      " [ 0.60833333  0.74489796]\n",
      " [ 0.60504202  0.73469388]\n",
      " [ 0.60169492  0.7244898 ]\n",
      " [ 0.60683761  0.7244898 ]\n",
      " [ 0.61206897  0.7244898 ]\n",
      " [ 0.6173913   0.7244898 ]\n",
      " [ 0.62280702  0.7244898 ]\n",
      " [ 0.61946903  0.71428571]\n",
      " [ 0.61607143  0.70408163]\n",
      " [ 0.62162162  0.70408163]]\n"
     ]
    }
   ],
   "source": [
    "precision_svm, recall_svm, thresholds_svm = metrics.precision_recall_curve(scores['true'], scores['score_svm'])\n",
    "svm = np.concatenate((precision_svm.reshape(1,len(precision_svm)).transpose(), recall_svm.reshape(1,len(recall_svm)).transpose()), axis =1)\n",
    "print(\"precision and recall =\\n\", svm[svm[:,1] > 0.7])"
   ]
  },
  {
   "cell_type": "code",
   "execution_count": 71,
   "metadata": {
    "collapsed": false
   },
   "outputs": [
    {
     "name": "stdout",
     "output_type": "stream",
     "text": [
      "precision and recall =\n",
      " [[ 0.49        1.        ]\n",
      " [ 0.52903226  0.83673469]\n",
      " [ 0.53246753  0.83673469]\n",
      " [ 0.53594771  0.83673469]\n",
      " [ 0.53947368  0.83673469]\n",
      " [ 0.53642384  0.82653061]\n",
      " [ 0.54        0.82653061]\n",
      " [ 0.54362416  0.82653061]\n",
      " [ 0.5472973   0.82653061]\n",
      " [ 0.55102041  0.82653061]\n",
      " [ 0.55479452  0.82653061]\n",
      " [ 0.55862069  0.82653061]\n",
      " [ 0.55555556  0.81632653]\n",
      " [ 0.55944056  0.81632653]\n",
      " [ 0.56338028  0.81632653]\n",
      " [ 0.56737589  0.81632653]\n",
      " [ 0.57142857  0.81632653]\n",
      " [ 0.56834532  0.80612245]\n",
      " [ 0.56521739  0.79591837]\n",
      " [ 0.56934307  0.79591837]\n",
      " [ 0.56617647  0.78571429]\n",
      " [ 0.57037037  0.78571429]\n",
      " [ 0.56716418  0.7755102 ]\n",
      " [ 0.57142857  0.7755102 ]\n",
      " [ 0.57575758  0.7755102 ]\n",
      " [ 0.58015267  0.7755102 ]\n",
      " [ 0.58461538  0.7755102 ]\n",
      " [ 0.58914729  0.7755102 ]\n",
      " [ 0.59375     0.7755102 ]\n",
      " [ 0.59055118  0.76530612]\n",
      " [ 0.58730159  0.75510204]\n",
      " [ 0.592       0.75510204]\n",
      " [ 0.59677419  0.75510204]\n",
      " [ 0.60162602  0.75510204]\n",
      " [ 0.60655738  0.75510204]\n",
      " [ 0.60330579  0.74489796]\n",
      " [ 0.6         0.73469388]\n",
      " [ 0.59663866  0.7244898 ]\n",
      " [ 0.59322034  0.71428571]\n",
      " [ 0.58974359  0.70408163]\n",
      " [ 0.59482759  0.70408163]]\n"
     ]
    }
   ],
   "source": [
    "precision_knn, recall_knn, thresholds_knn = metrics.precision_recall_curve(scores['true'], scores['score_knn'])\n",
    "knn = np.concatenate((precision_knn.reshape(1,len(precision_knn)).transpose(), recall_knn.reshape(1,len(recall_knn)).transpose()), axis =1)\n",
    "print(\"precision and recall =\\n\", knn[knn[:,1] > 0.7])"
   ]
  },
  {
   "cell_type": "code",
   "execution_count": 72,
   "metadata": {
    "collapsed": false
   },
   "outputs": [
    {
     "name": "stdout",
     "output_type": "stream",
     "text": [
      "precision and recall =\n",
      " [[ 0.49        1.        ]\n",
      " [ 0.50273224  0.93877551]\n",
      " [ 0.50847458  0.91836735]\n",
      " [ 0.53289474  0.82653061]\n",
      " [ 0.59848485  0.80612245]\n",
      " [ 0.65178571  0.74489796]]\n"
     ]
    }
   ],
   "source": [
    "precision_tree, recall_tree, thresholds_tree = metrics.precision_recall_curve(scores['true'], scores['score_tree'])\n",
    "tree = np.concatenate((precision_tree.reshape(1,len(precision_tree)).transpose(), recall_tree.reshape(1,len(recall_tree)).transpose()), axis =1)\n",
    "print(\"precision and recall =\\n\", tree[tree[:,1] > 0.7])"
   ]
  },
  {
   "cell_type": "code",
   "execution_count": null,
   "metadata": {
    "collapsed": true
   },
   "outputs": [],
   "source": []
  }
 ],
 "metadata": {
  "kernelspec": {
   "display_name": "Python 3",
   "language": "python",
   "name": "python3"
  },
  "language_info": {
   "codemirror_mode": {
    "name": "ipython",
    "version": 3
   },
   "file_extension": ".py",
   "mimetype": "text/x-python",
   "name": "python",
   "nbconvert_exporter": "python",
   "pygments_lexer": "ipython3",
   "version": "3.5.1"
  }
 },
 "nbformat": 4,
 "nbformat_minor": 0
}
