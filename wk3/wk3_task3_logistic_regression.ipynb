{
 "cells": [
  {
   "cell_type": "code",
   "execution_count": 109,
   "metadata": {
    "collapsed": false
   },
   "outputs": [
    {
     "name": "stdout",
     "output_type": "stream",
     "text": [
      "(205, 3)\n"
     ]
    },
    {
     "data": {
      "text/html": [
       "<div>\n",
       "<table border=\"1\" class=\"dataframe\">\n",
       "  <thead>\n",
       "    <tr style=\"text-align: right;\">\n",
       "      <th></th>\n",
       "      <th>y</th>\n",
       "      <th>x1</th>\n",
       "      <th>x2</th>\n",
       "    </tr>\n",
       "  </thead>\n",
       "  <tbody>\n",
       "    <tr>\n",
       "      <th>0</th>\n",
       "      <td>-1</td>\n",
       "      <td>-0.663827</td>\n",
       "      <td>-0.138526</td>\n",
       "    </tr>\n",
       "    <tr>\n",
       "      <th>1</th>\n",
       "      <td>1</td>\n",
       "      <td>1.994596</td>\n",
       "      <td>2.468025</td>\n",
       "    </tr>\n",
       "    <tr>\n",
       "      <th>2</th>\n",
       "      <td>-1</td>\n",
       "      <td>-1.247395</td>\n",
       "      <td>0.749425</td>\n",
       "    </tr>\n",
       "    <tr>\n",
       "      <th>3</th>\n",
       "      <td>1</td>\n",
       "      <td>2.309374</td>\n",
       "      <td>1.899836</td>\n",
       "    </tr>\n",
       "    <tr>\n",
       "      <th>4</th>\n",
       "      <td>1</td>\n",
       "      <td>0.849143</td>\n",
       "      <td>2.407750</td>\n",
       "    </tr>\n",
       "    <tr>\n",
       "      <th>5</th>\n",
       "      <td>1</td>\n",
       "      <td>1.454271</td>\n",
       "      <td>-0.665416</td>\n",
       "    </tr>\n",
       "    <tr>\n",
       "      <th>6</th>\n",
       "      <td>1</td>\n",
       "      <td>2.254227</td>\n",
       "      <td>2.263786</td>\n",
       "    </tr>\n",
       "    <tr>\n",
       "      <th>7</th>\n",
       "      <td>-1</td>\n",
       "      <td>-0.067580</td>\n",
       "      <td>1.469141</td>\n",
       "    </tr>\n",
       "    <tr>\n",
       "      <th>8</th>\n",
       "      <td>-1</td>\n",
       "      <td>-0.861961</td>\n",
       "      <td>-0.824856</td>\n",
       "    </tr>\n",
       "    <tr>\n",
       "      <th>9</th>\n",
       "      <td>1</td>\n",
       "      <td>0.699179</td>\n",
       "      <td>2.032488</td>\n",
       "    </tr>\n",
       "  </tbody>\n",
       "</table>\n",
       "</div>"
      ],
      "text/plain": [
       "   y        x1        x2\n",
       "0 -1 -0.663827 -0.138526\n",
       "1  1  1.994596  2.468025\n",
       "2 -1 -1.247395  0.749425\n",
       "3  1  2.309374  1.899836\n",
       "4  1  0.849143  2.407750\n",
       "5  1  1.454271 -0.665416\n",
       "6  1  2.254227  2.263786\n",
       "7 -1 -0.067580  1.469141\n",
       "8 -1 -0.861961 -0.824856\n",
       "9  1  0.699179  2.032488"
      ]
     },
     "execution_count": 109,
     "metadata": {},
     "output_type": "execute_result"
    }
   ],
   "source": [
    "import pandas as pd\n",
    "import numpy as np\n",
    "df = pd.read_csv(\"data-logistic.csv\", header = None, names = ['y', 'x1', 'x2'])\n",
    "print(df.shape)\n",
    "df.head(10)"
   ]
  },
  {
   "cell_type": "code",
   "execution_count": 237,
   "metadata": {
    "collapsed": false
   },
   "outputs": [
    {
     "name": "stdout",
     "output_type": "stream",
     "text": [
      "iterations =  204\n",
      "0    0.494402\n",
      "1    0.529497\n",
      "2    0.495737\n",
      "3    0.528229\n",
      "4    0.520967\n",
      "5    0.506261\n",
      "6    0.530084\n",
      "7    0.508618\n",
      "8    0.488737\n",
      "9    0.517577\n",
      "dtype: float64\n"
     ]
    }
   ],
   "source": [
    "w = np.ones(2) #weights vector, initialized with zeros\n",
    "w_p = np.zeros(2) #weights vector of previous step\n",
    "# to enter while cycle\n",
    "\n",
    "#print(w[0])  \n",
    "#print(w_p[0]) \n",
    "#print((w-w_p)[0])\n",
    "\n",
    "l = df.shape[0] #number of records in training set\n",
    "k = 1e-1 #step size\n",
    "C = 10 #regularization constant\n",
    "eps = 1e-5 #epsilon\n",
    "while (np.sqrt(np.square((w - w_p)[0]) + np.square((w - w_p)[1])) > eps) and (i <= 10000):\n",
    "    #print(w)\n",
    "    #print(w_p)\n",
    "    w_p = w.copy()\n",
    "    sumL = np.zeros(2) # sum(L{M})\n",
    "    for i in range(l):\n",
    "        sumL[0] = sumL[0] + df['y'][i] * df['x1'][i] * (1 - 1 / (1 + np.exp(-df['y'][i] * (w[0] * df['x1'][i] + w[1] * df['x2'][i]))))\n",
    "        sumL[1] = sumL[1] + df['y'][i] * df['x2'][i] * (1 - 1 / (1 + np.exp(-df['y'][i] * (w[0] * df['x1'][i] + w[1] * df['x2'][i]))))\n",
    "    w[0] = w[0] + k / l * sumL[0] -  k * C * w[0]\n",
    "    w[1] = w[1] + k / l * sumL[1] -  k * C * w[1]\n",
    "    #print(w)\n",
    "    #print(w_p)\n",
    "\n",
    "print(\"iterations = \", i)    \n",
    "\n",
    "a = np.zeros(l)\n",
    "a = 1 / (1 + np.exp(-(w[0] * df['x1'] + w[1] * df['x2'])))\n",
    "\n",
    "print(a[0:10])\n",
    "#print(df.iloc[:,0])"
   ]
  },
  {
   "cell_type": "code",
   "execution_count": 140,
   "metadata": {
    "collapsed": false
   },
   "outputs": [
    {
     "name": "stdout",
     "output_type": "stream",
     "text": [
      "AUC-ROC =  0.936095238095\n"
     ]
    }
   ],
   "source": [
    "from sklearn.metrics import roc_auc_score\n",
    "print(\"AUC-ROC = \", roc_auc_score(df.iloc[:,0], a))"
   ]
  },
  {
   "cell_type": "code",
   "execution_count": 143,
   "metadata": {
    "collapsed": false
   },
   "outputs": [
    {
     "name": "stdout",
     "output_type": "stream",
     "text": [
      "iterations =  203\n",
      "a =\n",
      " 0    0.494399\n",
      "1    0.529602\n",
      "2    0.495777\n",
      "3    0.528306\n",
      "4    0.521075\n",
      "5    0.506223\n",
      "6    0.530178\n",
      "7    0.508687\n",
      "8    0.488703\n",
      "9    0.517668\n",
      "dtype: float64\n",
      "AUC-ROC =  0.936095238095\n"
     ]
    }
   ],
   "source": [
    "w = np.ones(2) #weights vector, initialized with zeros\n",
    "w_p = np.zeros(2) #weights vector of previous step\n",
    "# to enter while cycle\n",
    "\n",
    "#print(w[0])  \n",
    "#print(w_p[0]) \n",
    "#print((w-w_p)[0])\n",
    "\n",
    "l = df.shape[0] #number of records in training set\n",
    "k = 1e-1 #step size\n",
    "C = 10 #regularization constant\n",
    "eps = 1e-5 #epsilon\n",
    "while (np.sqrt(np.square((w - w_p)[0]) + np.square((w - w_p)[1])) > eps) and (i <= 10000):\n",
    "    #print(w)\n",
    "    #print(w_p)\n",
    "    w_p = w.copy()\n",
    "    sumL = np.zeros(2) # sum(L{M})\n",
    "    for i in range(0,l-1):\n",
    "        sumL[0] = sumL[0] + df['y'][i] * df['x1'][i] * (1 / (1 + np.exp(df['y'][i] * (w[0] * df['x1'][i] + w[1] * df['x2'][i]))))\n",
    "        sumL[1] = sumL[1] + df['y'][i] * df['x2'][i] * (1 / (1 + np.exp(df['y'][i] * (w[0] * df['x1'][i] + w[1] * df['x2'][i]))))\n",
    "    w[0] = w[0] + k / l * sumL[0] -  k * C * w[0]\n",
    "    w[1] = w[1] + k / l * sumL[1] -  k * C * w[1]\n",
    "    #print(w)\n",
    "    #print(w_p)\n",
    "\n",
    "print(\"iterations = \", i)    \n",
    "\n",
    "a = np.zeros(l)\n",
    "a = 1 / (1 + np.exp(-(w[0] * df['x1'] + w[1] * df['x2'])))\n",
    "\n",
    "print(\"a =\\n\", a[0:10])\n",
    "#print(df.iloc[:,0])\n",
    "\n",
    "from sklearn.metrics import roc_auc_score\n",
    "print(\"AUC-ROC = \", roc_auc_score(df.iloc[:,0], a))"
   ]
  },
  {
   "cell_type": "code",
   "execution_count": 236,
   "metadata": {
    "collapsed": false
   },
   "outputs": [
    {
     "name": "stdout",
     "output_type": "stream",
     "text": [
      "iterations =  204\n",
      "a =\n",
      " 0    0.494402\n",
      "1    0.529497\n",
      "2    0.495737\n",
      "3    0.528229\n",
      "4    0.520967\n",
      "5    0.506261\n",
      "6    0.530084\n",
      "7    0.508618\n",
      "8    0.488737\n",
      "9    0.517577\n",
      "dtype: float64\n",
      "AUC-ROC =  0.936285714286\n"
     ]
    }
   ],
   "source": [
    "w = np.ones(2) #weights vector, initialized with zeros\n",
    "w_p = np.zeros(2) #weights vector of previous step\n",
    "# to enter while cycle\n",
    "\n",
    "#print(w[0])  \n",
    "#print(w_p[0]) \n",
    "#print((w-w_p)[0])\n",
    "\n",
    "l = df.shape[0] #number of records in training set\n",
    "k = 1e-1 #step size\n",
    "C = 10 #regularization constant\n",
    "eps = 1e-5 #epsilon\n",
    "while (np.sqrt(np.square((w - w_p)[0]) + np.square((w - w_p)[1])) > eps) and (i <= 10000):\n",
    "    #print(w)\n",
    "    #print(w_p)\n",
    "    w_p = w.copy()\n",
    "    sumL = np.zeros(2) # sum(L{M})\n",
    "    #print(\"sumL with loop:\\n\")\n",
    "    #for i in range(l):\n",
    "        #sumL[0] = sumL[0] + df['y'][i] * df['x1'][i] * (1 / (1 + np.exp(df['y'][i] * (w[0] * df['x1'][i] + w[1] * df['x2'][i]))))\n",
    "        #sumL[1] = sumL[1] + df['y'][i] * df['x2'][i] * (1 / (1 + np.exp(df['y'][i] * (w[0] * df['x1'][i] + w[1] * df['x2'][i]))))\n",
    "        #if (i<10):\n",
    "        #    print(i, df['y'][i] * df['x1'][i] * 1 / (1 + np.exp(df['y'][i] * (w[0] * df['x1'][i] + w[1] * df['x2'][i]))))\n",
    "    #print(sumL)\n",
    "    sumL[0] = np.sum(np.multiply(df['y'], np.multiply(df['x1'], 1 / (1 + np.exp(np.multiply(df['y'], w[0] * df['x1'] + w[1] * df['x2']))))))\n",
    "    sumL[1] = np.sum(np.multiply(df['y'], np.multiply(df['x2'], 1 / (1 + np.exp(np.multiply(df['y'], w[0] * df['x1'] + w[1] * df['x2']))))))\n",
    "    #print(df['y'][0] * df['x1'][0] * 1 / (1 + np.exp(df['y'][0] * (w[0] * df['x1'][0] + w[1] * df['x2'][0]))))\n",
    "    #print(df['y'][l-1] * df['x1'][l-1] * 1 / (1 + np.exp(df['y'][l-1] * (w[0] * df['x1'][l-1] + w[1] * df['x2'][l-1]))))\n",
    "    #print(\"sumL without loop:\\n\")\n",
    "    #SumL1 = np.multiply(df['y'], np.multiply(df['x1'], 1 / (1 + np.exp(np.multiply(df['y'], w[0] * df['x1'] + w[1] * df['x2'])))))\n",
    "    #print(type(SumL1))\n",
    "    #print(sumL) \n",
    "    #print(l-1)\n",
    "    #print(np.shape(np.multiply(df['y'], np.multiply(df['x1'], 1 / (1 + np.exp(np.multiply(df['y'], w[0] * df['x1'] + w[1] * df['x2'])))))))\n",
    "    #print(sumL)\n",
    "    w = w + k / l * sumL -  k * C * w\n",
    "    #w[1] = w[1] + k / l * sumL[1] -  k * C * w[1]\n",
    "    #print(w)\n",
    "    #print(w_p)\n",
    "\n",
    "print(\"iterations = \", i)    \n",
    "\n",
    "a = np.zeros(l)\n",
    "a = 1 / (1 + np.exp(-(w[0] * df['x1'] + w[1] * df['x2'])))\n",
    "\n",
    "print(\"a =\\n\", a[0:10])\n",
    "#print(df.iloc[:,0])\n",
    "\n",
    "from sklearn.metrics import roc_auc_score\n",
    "print(\"AUC-ROC = \", roc_auc_score(df.iloc[:,0], a))"
   ]
  },
  {
   "cell_type": "code",
   "execution_count": 159,
   "metadata": {
    "collapsed": false
   },
   "outputs": [
    {
     "data": {
      "text/plain": [
       "array([ 0.2,  0.2])"
      ]
     },
     "execution_count": 159,
     "metadata": {},
     "output_type": "execute_result"
    }
   ],
   "source": [
    "1 / (1 + 4 * np.ones(2))"
   ]
  },
  {
   "cell_type": "code",
   "execution_count": 233,
   "metadata": {
    "collapsed": false
   },
   "outputs": [
    {
     "name": "stdout",
     "output_type": "stream",
     "text": [
      "1.76405234597\n",
      "0.400157208367\n",
      "0.978737984106\n",
      "2.2408931992\n",
      "1.86755799015\n"
     ]
    }
   ],
   "source": [
    "np.random.seed(0)\n",
    "s = pd.Series(np.random.randn(5), index=['a', 'b', 'c', 'd', 'e'])\n",
    "for i in range(5):\n",
    "    print(s[i])"
   ]
  },
  {
   "cell_type": "code",
   "execution_count": null,
   "metadata": {
    "collapsed": true
   },
   "outputs": [],
   "source": []
  },
  {
   "cell_type": "code",
   "execution_count": null,
   "metadata": {
    "collapsed": true
   },
   "outputs": [],
   "source": []
  }
 ],
 "metadata": {
  "kernelspec": {
   "display_name": "Python 3",
   "language": "python",
   "name": "python3"
  },
  "language_info": {
   "codemirror_mode": {
    "name": "ipython",
    "version": 3
   },
   "file_extension": ".py",
   "mimetype": "text/x-python",
   "name": "python",
   "nbconvert_exporter": "python",
   "pygments_lexer": "ipython3",
   "version": "3.5.1"
  }
 },
 "nbformat": 4,
 "nbformat_minor": 0
}
